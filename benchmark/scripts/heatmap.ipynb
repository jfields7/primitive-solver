{
 "cells": [
  {
   "cell_type": "code",
   "execution_count": null,
   "metadata": {},
   "outputs": [],
   "source": [
    "from matplotlib import rcParams\n",
    "rcParams['font.family'] = 'serif'\n",
    "import matplotlib.pyplot as plt\n",
    "import matplotlib\n",
    "import numpy as np"
   ]
  },
  {
   "cell_type": "code",
   "execution_count": null,
   "metadata": {},
   "outputs": [],
   "source": [
    "# Load the ranges\n",
    "ranges = np.genfromtxt(\"../bin/Basic.csv\",dtype=(int,float,float),delimiter=\",\")\n",
    "n_range = ranges[0]\n",
    "T_range = ranges[1]\n",
    "vx_range = ranges[2]\n",
    "vy_range = ranges[3]\n",
    "vz_range = ranges[4]\n",
    "Bx_range = ranges[5]\n",
    "By_range = ranges[6]\n",
    "Bz_range = ranges[7]\n",
    "\n",
    "# Extract sizes\n",
    "nn = n_range[0]\n",
    "nT = T_range[0]\n",
    "nvx = vx_range[0]\n",
    "nvy = vy_range[0]\n",
    "nvz = vz_range[0]\n",
    "nBx = Bx_range[0]\n",
    "nBy = By_range[0]\n",
    "nBz = Bz_range[0]\n",
    "\n",
    "# Load the data\n",
    "size = nn*nT*nvx*nvy*nvz*nBx*nBy*nBz\n",
    "arr_shape = (nBz, nBy, nBx, nvz, nvy, nvx, nT, nn)\n",
    "iterations = np.fromfile(\"../bin/Basic.bmrk\",dtype=np.float64,count=size)\n",
    "n_err = np.fromfile(\"../bin/Basic.bmrk\",dtype=np.float64,count=size,offset=size*8)\n",
    "T_err = np.fromfile(\"../bin/Basic.bmrk\",dtype=np.float64,count=size,offset=2*size*8)\n",
    "vx_err = np.fromfile(\"../bin/Basic.bmrk\",dtype=np.float64,count=size,offset=3*size*8)\n",
    "vy_err = np.fromfile(\"../bin/Basic.bmrk\",dtype=np.float64,count=size,offset=4*size*8)\n",
    "vz_err = np.fromfile(\"../bin/Basic.bmrk\",dtype=np.float64,count=size,offset=5*size*8)\n",
    "\n",
    "# Get the auxiliary data, too\n",
    "mag = np.fromfile(\"../bin/Basic.aux\",dtype=np.float64,count=size)\n",
    "therm = np.fromfile(\"../bin/Basic.aux\",dtype=np.float64,count=size,offset=size*8)\n",
    "\n",
    "def index(ni, ti, vxi, vyi, vzi, bxi, byi, bzi):\n",
    "    return ni + nn*(ti + nT*(vxi + nvx*(vyi + nvy*(vzi + nvz*(bxi + nBx*(byi + nBy*bzi))))))"
   ]
  },
  {
   "cell_type": "code",
   "execution_count": null,
   "metadata": {},
   "outputs": [],
   "source": [
    "# Average out errors over magnetic fields and velocities\n",
    "iterations_avg = np.mean(iterations.reshape(arr_shape),(0,1,2,3,4,5))\n",
    "n_err_avg = np.mean(n_err.reshape(arr_shape),(0,1,2,3,4,5))\n",
    "T_err_avg = np.mean(T_err.reshape(arr_shape),(0,1,2,3,4,5))\n",
    "vx_err_avg = np.mean(vx_err.reshape(arr_shape),(0,1,2,3,4,5))\n",
    "vy_err_avg = np.mean(vy_err.reshape(arr_shape),(0,1,2,3,4,5))\n",
    "vz_err_avg = np.mean(vz_err.reshape(arr_shape),(0,1,2,3,4,5))\n",
    "\n",
    "# Find errors based on magnetization and density to pressure ratio.\n",
    "density = np.linspace(n_range[1], n_range[2], nn)\n",
    "temperature = np.linspace(T_range[1], T_range[2], nT)"
   ]
  },
  {
   "cell_type": "code",
   "execution_count": null,
   "metadata": {},
   "outputs": [],
   "source": [
    "# Make a heatmap\n",
    "y, x = np.meshgrid(np.linspace(n_range[1],n_range[2],nn), np.linspace(T_range[1],T_range[2],nT))\n",
    "\n",
    "\n",
    "z = n_err_avg\n",
    "z = z[:-1,:-1]\n",
    "#w = iterations_avg\n",
    "w = iterations_avg[:-1,:-1]\n",
    "z_min, z_max = np.abs(z).min(), np.abs(z).max()\n",
    "w_min, w_max = np.abs(w).min(), np.abs(w).max()\n",
    "\n",
    "fig, ax = plt.subplots()\n",
    "\n",
    "#c = ax.pcolormesh(x, y, z, cmap='YlOrRd', norm=matplotlib.colors.LogNorm(vmin=z_min, vmax=z_min*50))\n",
    "c = ax.pcolormesh(x, y, w, cmap='winter', vmin=w_min, vmax=w_max)\n",
    "#ax.contour(x, y, w, levels=5, colors='black', linestyles=('solid', 'dashed', 'dashdot', 'dotted'))\n",
    "#ax.set_title('Density, Average Relative Error')\n",
    "#ax.set_title(\"Average Iterations\")\n",
    "ax.set_xlabel('Temperature')\n",
    "ax.set_ylabel('Density')\n",
    "# set the limits of the plot to the limits of the data\n",
    "ax.axis([x.min(), x.max(), y.min(), y.max()])\n",
    "fig.colorbar(c, ax=ax, extend='max')\n",
    "\n",
    "'''\n",
    "z = iterations\n",
    "z_min, z_max = np.abs(z).min(), np.abs(z).max()\n",
    "\n",
    "fig, ax = plt.subplots()\n",
    "c = ax.pcolor(therm,mag,z, cmap='seismic', vmin=z_min, vmax=z_max)\n",
    "ax.set_title('Average Iterations')\n",
    "ax.set_xlabel('Temperature')\n",
    "ax.set_ylabel('Magnetization')\n",
    "# set the limits of the plot to the limits of the data\n",
    "ax.axis([therm.min(), therm.max(), mag.min(), mag.max()])\n",
    "fig.colorbar(c, ax=ax)\n",
    "'''\n",
    "\n",
    "plt.show()"
   ]
  }
 ],
 "metadata": {
  "interpreter": {
   "hash": "767d51c1340bd893661ea55ea3124f6de3c7a262a8b4abca0554b478b1e2ff90"
  },
  "kernelspec": {
   "display_name": "Python 3.8.10 64-bit",
   "name": "python3"
  },
  "language_info": {
   "codemirror_mode": {
    "name": "ipython",
    "version": 3
   },
   "file_extension": ".py",
   "mimetype": "text/x-python",
   "name": "python",
   "nbconvert_exporter": "python",
   "pygments_lexer": "ipython3",
   "version": "3.8.10"
  },
  "orig_nbformat": 4
 },
 "nbformat": 4,
 "nbformat_minor": 2
}
